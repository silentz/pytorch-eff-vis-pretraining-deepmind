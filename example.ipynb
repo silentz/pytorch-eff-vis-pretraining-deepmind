{
 "cells": [
  {
   "cell_type": "code",
   "execution_count": 52,
   "id": "80eb4138-c0f3-4fb8-bccd-49d114d35dc5",
   "metadata": {},
   "outputs": [],
   "source": [
    "import torch\n",
    "import torchvision\n",
    "import tqdm.notebook as tqdm\n",
    "import pytorch_eff_vis_pretraining\n",
    "import numpy as np\n",
    "from sklearn.metrics import accuracy_score\n",
    "from IPython.display import clear_output\n",
    "import matplotlib.pyplot as plt"
   ]
  },
  {
   "cell_type": "markdown",
   "id": "5851c415-a575-4244-8be1-211a479685b4",
   "metadata": {},
   "source": [
    "### Dataset"
   ]
  },
  {
   "cell_type": "code",
   "execution_count": 46,
   "id": "bd7a5682-8fc9-4939-ba0c-6def52c24329",
   "metadata": {},
   "outputs": [
    {
     "name": "stdout",
     "output_type": "stream",
     "text": [
      "Files already downloaded and verified\n",
      "Files already downloaded and verified\n"
     ]
    }
   ],
   "source": [
    "transforms = torchvision.transforms.Compose([\n",
    "         torchvision.transforms.ToTensor(),\n",
    "         torchvision.transforms.Normalize((0.5, 0.5, 0.5), (0.5, 0.5, 0.5)),\n",
    "    ])\n",
    "train_dataset = torchvision.datasets.CIFAR10(\n",
    "        root='./data',\n",
    "        train=True,\n",
    "        download=True,\n",
    "        transform=transforms,\n",
    "    )\n",
    "valid_dataset = torchvision.datasets.CIFAR10(\n",
    "        root='./data',\n",
    "        train=False,\n",
    "        download=True,\n",
    "        transform=transforms,\n",
    "    )"
   ]
  },
  {
   "cell_type": "code",
   "execution_count": 47,
   "id": "e6c4ba2f-acd9-43ed-bbc7-322e90112b19",
   "metadata": {},
   "outputs": [],
   "source": [
    "train_loader = torch.utils.data.DataLoader(train_dataset, batch_size=128)\n",
    "valid_loader = torch.utils.data.DataLoader(valid_dataset, batch_size=128)"
   ]
  },
  {
   "cell_type": "code",
   "execution_count": 48,
   "id": "9a7ec633-5650-4b2f-b312-e4332d7078b1",
   "metadata": {},
   "outputs": [],
   "source": [
    "device = torch.device('cuda' if torch.cuda.is_available() else 'cpu')"
   ]
  },
  {
   "cell_type": "markdown",
   "id": "21e5defe-0957-4316-b82d-61109d445466",
   "metadata": {},
   "source": [
    "### Train model"
   ]
  },
  {
   "cell_type": "code",
   "execution_count": 69,
   "id": "76ce70a3-2295-4b74-ac46-0da53818ef70",
   "metadata": {
    "tags": []
   },
   "outputs": [],
   "source": [
    "def train(model: torch.nn.Module,\n",
    "          optim: torch.optim.Optimizer,\n",
    "          criterion: torch.nn.Module,\n",
    "          train_dataloader: torch.utils.data.DataLoader,\n",
    "          valid_dataloader: torch.utils.data.DataLoader,\n",
    "          n_epochs: int,\n",
    "          device: torch.device):\n",
    "    \n",
    "    model.to(device)\n",
    "\n",
    "    valid_losses = []\n",
    "    valid_accs = []\n",
    "    \n",
    "    train_losses = []\n",
    "    train_accs = []\n",
    "    \n",
    "    for epoch_idx in tqdm.trange(n_epochs):\n",
    "        \n",
    "        model.train()\n",
    "        train_loss_epoch = []\n",
    "        train_labels = []\n",
    "        train_preds = []\n",
    "        \n",
    "        for batch in tqdm.tqdm(train_dataloader):\n",
    "            images = batch[0].to(device)\n",
    "            labels = batch[1].to(device)\n",
    "            \n",
    "            model_out = model(images)\n",
    "            loss = criterion(model_out, labels)\n",
    "            \n",
    "            optim.zero_grad()\n",
    "            loss.backward()\n",
    "            optim.step()\n",
    "            \n",
    "            preds = torch.argmax(model_out, dim=1)\n",
    "            train_loss_epoch.append(loss.item())\n",
    "            train_labels.extend(labels.detach().cpu().tolist())\n",
    "            train_preds.extend(preds.detach().cpu().tolist())\n",
    "        \n",
    "        model.eval()\n",
    "        valid_loss_epoch = []\n",
    "        valid_labels = []\n",
    "        valid_preds = []\n",
    "        \n",
    "        for batch in tqdm.tqdm(valid_dataloader):\n",
    "            images = batch[0].to(device)\n",
    "            labels = batch[1].to(device)\n",
    "            \n",
    "            with torch.no_grad():\n",
    "                model_out = model(images)\n",
    "                loss = criterion(model_out, labels)\n",
    "                \n",
    "                preds = torch.argmax(model_out, dim=1)\n",
    "                valid_loss_epoch.append(loss.item())\n",
    "                valid_labels.extend(labels.detach().cpu().tolist())\n",
    "                valid_preds.extend(preds.detach().cpu().tolist())\n",
    "        \n",
    "        train_losses.append(np.mean(train_loss_epoch))\n",
    "        valid_losses.append(np.mean(valid_loss_epoch))\n",
    "        \n",
    "        train_acc = accuracy_score(train_labels, train_preds)\n",
    "        train_accs.append(train_acc)\n",
    "        \n",
    "        valid_acc = accuracy_score(valid_labels, valid_preds)\n",
    "        valid_accs.append(valid_acc)\n",
    "        \n",
    "        clear_output()\n",
    "        fig, ax = plt.subplots(1, 2, figsize=(12, 4))\n",
    "        ax[0].plot(train_losses, c='r', label='train')\n",
    "        ax[0].plot(valid_losses, c='g', label='valid')\n",
    "        ax[0].legend()\n",
    "        ax[0].set_title('loss')\n",
    "        \n",
    "        ax[1].plot(train_accs, c='r', label='train')\n",
    "        ax[1].plot(valid_accs, c='g', label='valid')\n",
    "        ax[1].legend()\n",
    "        ax[1].set_title('accuracy')\n",
    "\n",
    "        plt.show()"
   ]
  },
  {
   "cell_type": "code",
   "execution_count": 74,
   "id": "1f88f7a4-6bde-4b5e-b0fd-8e1bb0d4c0a4",
   "metadata": {},
   "outputs": [],
   "source": [
    "class Model(torch.nn.Module):\n",
    "\n",
    "    def __init__(self):\n",
    "        super().__init__()\n",
    "        self._backbone = pytorch_eff_vis_pretraining.ResNet50()\n",
    "        self._head = torch.nn.Linear(in_features=2048, out_features=10)\n",
    "    \n",
    "    def forward(self, input: torch.Tensor) -> torch.Tensor:\n",
    "        X = self._backbone(input)\n",
    "        X = self._head(X)\n",
    "        return X"
   ]
  },
  {
   "cell_type": "code",
   "execution_count": 76,
   "id": "9b078991-d3ca-48e9-b79b-57c3a2b6c3cd",
   "metadata": {},
   "outputs": [
    {
     "data": {
      "image/png": "[encoded data removed]",
      "text/plain": [
       "<Figure size 864x288 with 2 Axes>"
      ]
     },
     "metadata": {
      "needs_background": "light"
     },
     "output_type": "display_data"
    }
   ],
   "source": [
    "model = Model()\n",
    "optim = torch.optim.Adam(model.parameters(), lr=0.001)\n",
    "criterion = torch.nn.CrossEntropyLoss()\n",
    "\n",
    "train(\n",
    "    model=model,\n",
    "    optim=optim,\n",
    "    criterion=criterion,\n",
    "    train_dataloader=train_loader,\n",
    "    valid_dataloader=valid_loader,\n",
    "    n_epochs=2,\n",
    "    device=device,\n",
    ")"
   ]
  }
 ],
 "metadata": {
  "kernelspec": {
   "display_name": "Python 3 (ipykernel)",
   "language": "python",
   "name": "python3"
  },
  "language_info": {
   "codemirror_mode": {
    "name": "ipython",
    "version": 3
   },
   "file_extension": ".py",
   "mimetype": "text/x-python",
   "name": "python",
   "nbconvert_exporter": "python",
   "pygments_lexer": "ipython3",
   "version": "3.8.10"
  }
 },
 "nbformat": 4,
 "nbformat_minor": 5
}
